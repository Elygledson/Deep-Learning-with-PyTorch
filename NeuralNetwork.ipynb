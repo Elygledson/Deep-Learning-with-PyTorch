{
  "nbformat": 4,
  "nbformat_minor": 0,
  "metadata": {
    "colab": {
      "provenance": [],
      "authorship_tag": "ABX9TyNBoVlhkDEdCnkycdKYeYen",
      "include_colab_link": true
    },
    "kernelspec": {
      "name": "python3",
      "display_name": "Python 3"
    },
    "language_info": {
      "name": "python"
    }
  },
  "cells": [
    {
      "cell_type": "markdown",
      "metadata": {
        "id": "view-in-github",
        "colab_type": "text"
      },
      "source": [
        "<a href=\"https://colab.research.google.com/github/Elygledson/Deep-Learning-with-PyTorch/blob/main/NeuralNetwork.ipynb\" target=\"_parent\"><img src=\"https://colab.research.google.com/assets/colab-badge.svg\" alt=\"Open In Colab\"/></a>"
      ]
    },
    {
      "cell_type": "markdown",
      "source": [
        "# Generating fake data"
      ],
      "metadata": {
        "id": "95PTkMNqWWph"
      }
    },
    {
      "cell_type": "code",
      "source": [
        "import torch\n",
        "import torch.nn as nn\n",
        "\n",
        "X = torch.arange(-20, 20, 1).view(-1, 1).type(torch.FloatTensor)\n",
        "Y = torch.zeros(X.shape[0])\n",
        "Y[(X[:, 0] > -4) & (X[:, 0] < 4)] = 1.0"
      ],
      "metadata": {
        "id": "FdLQL_oZWUbf"
      },
      "execution_count": 32,
      "outputs": []
    },
    {
      "cell_type": "markdown",
      "source": [
        "# Neural Network Model"
      ],
      "metadata": {
        "id": "eUoa_8rAWbUM"
      }
    },
    {
      "cell_type": "code",
      "source": [
        "class Net(nn.Module):\n",
        "    def __init__(self, n_inputs,h, outputs_dim):\n",
        "        super(Net, self).__init__()\n",
        "        self.linear = nn.Linear(n_inputs, h)\n",
        "        self.linear2 = nn.Linear(h, outputs_dim)\n",
        "\n",
        "    def forward(self, x):\n",
        "        yhat = torch.sigmoid(self.linear(x))\n",
        "        yhat = torch.sigmoid(self.linear2(yhat))\n",
        "        return yhat\n",
        "\n",
        "model = Net(1,2,1)"
      ],
      "metadata": {
        "id": "2GtdmdDrTTWF"
      },
      "execution_count": 33,
      "outputs": []
    },
    {
      "cell_type": "code",
      "source": [
        "def criterion_cross(outputs, labels):\n",
        "    out = -1 * torch.mean(labels * torch.log(outputs) + (1 - labels) * torch.log(1 - outputs))\n",
        "    return out\n",
        "\n",
        "optimizer = torch.optim.SGD(model.parameters(), lr=0.1)"
      ],
      "metadata": {
        "id": "iE_SsN-QU4Vp"
      },
      "execution_count": 34,
      "outputs": []
    },
    {
      "cell_type": "code",
      "source": [
        "import matplotlib.pyplot as plt\n",
        "\n",
        "def train(Y, X, model, optimizer, criterion, epochs=1000):\n",
        "    cost = []\n",
        "    total=0\n",
        "    for epoch in range(epochs):\n",
        "        total=0\n",
        "        for y, x in zip(Y, X):\n",
        "            yhat = model(x)\n",
        "            loss = criterion(yhat, y)\n",
        "            loss.backward()\n",
        "            optimizer.step()\n",
        "            optimizer.zero_grad()\n",
        "            #cumulative loss\n",
        "            total+=loss.item()\n",
        "        cost.append(total)\n",
        "    return cost\n",
        "\n",
        "cost_cross = train(Y, X, model, optimizer, criterion_cross, epochs=1000)\n",
        "plt.plot(cost_cross)\n",
        "plt.xlabel('epoch')\n",
        "plt.title('cross entropy loss')"
      ],
      "metadata": {
        "id": "OO6p1mBZ1TDA",
        "colab": {
          "base_uri": "https://localhost:8080/",
          "height": 489
        },
        "outputId": "78547bd3-d06f-4d3e-e787-d1180dff42fd"
      },
      "execution_count": 35,
      "outputs": [
        {
          "output_type": "execute_result",
          "data": {
            "text/plain": [
              "Text(0.5, 1.0, 'cross entropy loss')"
            ]
          },
          "metadata": {},
          "execution_count": 35
        },
        {
          "output_type": "display_data",
          "data": {
            "text/plain": [
              "<Figure size 640x480 with 1 Axes>"
            ],
            "image/png": "[encoded data removed]"
          },
          "metadata": {}
        }
      ]
    }
  ]
}