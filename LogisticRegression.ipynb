{
  "nbformat": 4,
  "nbformat_minor": 0,
  "metadata": {
    "colab": {
      "provenance": [],
      "authorship_tag": "ABX9TyM6vmNGPhP0wRJPflhBUovs",
      "include_colab_link": true
    },
    "kernelspec": {
      "name": "python3",
      "display_name": "Python 3"
    },
    "language_info": {
      "name": "python"
    }
  },
  "cells": [
    {
      "cell_type": "markdown",
      "metadata": {
        "id": "view-in-github",
        "colab_type": "text"
      },
      "source": [
        "<a href=\"https://colab.research.google.com/github/Elygledson/Deep-Learning-with-PyTorch/blob/main/LogisticRegression.ipynb\" target=\"_parent\"><img src=\"https://colab.research.google.com/assets/colab-badge.svg\" alt=\"Open In Colab\"/></a>"
      ]
    },
    {
      "cell_type": "markdown",
      "source": [
        "# Generating fake data"
      ],
      "metadata": {
        "id": "95PTkMNqWWph"
      }
    },
    {
      "cell_type": "code",
      "source": [
        "import torch\n",
        "import torch.nn as nn\n",
        "from torch.utils.data import Dataset, DataLoader\n",
        "\n",
        "torch.manual_seed(0)\n",
        "\n",
        "class Data(Dataset):\n",
        "    def __init__(self):\n",
        "        self.x = torch.arange(-1, 1, 0.1).view(-1, 1)\n",
        "        self.y = torch.zeros(self.x.shape[0], 1)\n",
        "        self.y[self.x[:, 0] > 0.2] = 1\n",
        "        self.len = self.x.shape[0]\n",
        "\n",
        "    # Getter\n",
        "    def __getitem__(self, index):\n",
        "        return self.x[index], self.y[index]\n",
        "\n",
        "    # Get Length\n",
        "    def __len__(self):\n",
        "        return self.len"
      ],
      "metadata": {
        "id": "FdLQL_oZWUbf"
      },
      "execution_count": 10,
      "outputs": []
    },
    {
      "cell_type": "markdown",
      "source": [
        "# Logistic Regression Model"
      ],
      "metadata": {
        "id": "eUoa_8rAWbUM"
      }
    },
    {
      "cell_type": "code",
      "source": [
        "\n",
        "class LogisticRegression(nn.Module):\n",
        "    def __init__(self, n_inputs):\n",
        "        super(LogisticRegression, self).__init__()\n",
        "        self.linear = nn.Linear(n_inputs, 1)\n",
        "\n",
        "    def forward(self, x):\n",
        "        yhat = torch.sigmoid(self.linear(x))\n",
        "        return yhat\n",
        "\n",
        "model = LogisticRegression(n_inputs=1)"
      ],
      "metadata": {
        "id": "2GtdmdDrTTWF"
      },
      "execution_count": 27,
      "outputs": []
    },
    {
      "cell_type": "code",
      "source": [
        "model.state_dict() ['linear.weight'].data[0] = torch.tensor([[-5]])\n",
        "model.state_dict() ['linear.bias'].data[0] = torch.tensor([[-10]])\n",
        "print(\"The parameters: \", model.state_dict())"
      ],
      "metadata": {
        "colab": {
          "base_uri": "https://localhost:8080/"
        },
        "id": "RyMCtyRNb4IT",
        "outputId": "0dead23b-51b9-49eb-f775-dac608ec2bc5"
      },
      "execution_count": 32,
      "outputs": [
        {
          "output_type": "stream",
          "name": "stdout",
          "text": [
            "The parameters:  OrderedDict([('linear.weight', tensor([[-5.]])), ('linear.bias', tensor([-10.]))])\n"
          ]
        }
      ]
    },
    {
      "cell_type": "code",
      "source": [
        "data_set = Data()\n",
        "trainloader = DataLoader(dataset=data_set, batch_size=3)\n",
        "criterion_rms = nn.MSELoss()\n",
        "learning_rate = 2\n",
        "optimizer = torch.optim.SGD(model.parameters(), lr=learning_rate)"
      ],
      "metadata": {
        "id": "iE_SsN-QU4Vp"
      },
      "execution_count": 38,
      "outputs": []
    },
    {
      "cell_type": "code",
      "source": [
        "def train_model(epochs):\n",
        "    for epoch in range(epochs):\n",
        "        for x, y in trainloader:\n",
        "            yhat = model(x)\n",
        "            loss = criterion_rms(yhat, y)\n",
        "            optimizer.zero_grad()\n",
        "            loss.backward()\n",
        "            optimizer.step()\n",
        "        if epoch % 20 == 0:\n",
        "            print(f\"epoch {epoch} - error {loss.item()}\")\n",
        "\n",
        "train_model(100)"
      ],
      "metadata": {
        "colab": {
          "base_uri": "https://localhost:8080/"
        },
        "id": "OINhZRSGZ9vc",
        "outputId": "c83a3db8-80c4-4166-8bba-55b7a3cd8ebe"
      },
      "execution_count": 34,
      "outputs": [
        {
          "output_type": "stream",
          "name": "stdout",
          "text": [
            "epoch 0 - error 0.9999986886978149\n",
            "epoch 20 - error 0.9999986886978149\n",
            "epoch 40 - error 0.9999986886978149\n",
            "epoch 60 - error 0.9999986886978149\n",
            "epoch 80 - error 0.9999986886978149\n"
          ]
        }
      ]
    },
    {
      "cell_type": "code",
      "source": [
        "# Make the Prediction\n",
        "\n",
        "yhat = model(data_set.x)\n",
        "label = yhat > 0.5\n",
        "print(\"The accuracy: \", torch.mean((label == data_set.y.type(torch.ByteTensor)).type(torch.float)))"
      ],
      "metadata": {
        "colab": {
          "base_uri": "https://localhost:8080/"
        },
        "id": "9YtOGn1gbTA3",
        "outputId": "bf733bd6-8d40-48fe-9cf2-dd672fa60e72"
      },
      "execution_count": 35,
      "outputs": [
        {
          "output_type": "stream",
          "name": "stdout",
          "text": [
            "The accuracy:  tensor(0.6500)\n"
          ]
        }
      ]
    }
  ]
}